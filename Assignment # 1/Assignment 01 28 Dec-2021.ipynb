{
 "cells": [
  {
   "cell_type": "code",
   "execution_count": 5,
   "metadata": {},
   "outputs": [
    {
     "name": "stdout",
     "output_type": "stream",
     "text": [
      "Twinkle twinkle little star \n",
      "\tHow I wonder what you are \n",
      "\t\tUp above the world so high \n",
      "\t\tLike a diamond in the sky \n",
      "Twinkle twinkle little star \n",
      "\tHow I wonder what you are!\n"
     ]
    }
   ],
   "source": [
    "#python program to print specific formate\n",
    "print(\"Twinkle twinkle little star \\n\\tHow I wonder what you are \\n\\t\\tUp above the world so high \\n\\t\\tLike a diamond in the sky \\nTwinkle twinkle little star \\n\\tHow I wonder what you are!\")\n"
   ]
  },
  {
   "cell_type": "code",
   "execution_count": 1,
   "metadata": {},
   "outputs": [
    {
     "name": "stdout",
     "output_type": "stream",
     "text": [
      "Python version\n",
      "3.8.5 (default, Sep  3 2020, 21:29:08) [MSC v.1916 64 bit (AMD64)]\n",
      "Version info.\n",
      "sys.version_info(major=3, minor=8, micro=5, releaselevel='final', serial=0)\n"
     ]
    }
   ],
   "source": [
    "# to check python program version\n",
    "import sys\n",
    "print(\"Python version\")\n",
    "print (sys.version)\n",
    "print(\"Version info.\")\n",
    "print (sys.version_info)"
   ]
  },
  {
   "cell_type": "code",
   "execution_count": 6,
   "metadata": {},
   "outputs": [
    {
     "name": "stdout",
     "output_type": "stream",
     "text": [
      "Today is:  2022-01-03\n"
     ]
    }
   ],
   "source": [
    "# current date\n",
    "from datetime import date\n",
    "today = date.today()\n",
    "print(\"Today is: \", today)"
   ]
  },
  {
   "cell_type": "code",
   "execution_count": 7,
   "metadata": {},
   "outputs": [
    {
     "name": "stdout",
     "output_type": "stream",
     "text": [
      "Input the radius of the circle : 5\n",
      "The area of the circle with radius 5.0 is: 78.53981633974483\n"
     ]
    }
   ],
   "source": [
    "# to calculate total area\n",
    "from math import pi\n",
    "r = float(input (\"Input the radius of the circle : \"))\n",
    "print (\"The area of the circle with radius \" + str(r) + \" is: \" + str(pi * r**2))"
   ]
  },
  {
   "cell_type": "code",
   "execution_count": 12,
   "metadata": {},
   "outputs": [
    {
     "name": "stdout",
     "output_type": "stream",
     "text": [
      "write your first name here.Ahmad\n",
      "write your last name hereMaqsood\n",
      "Maqsood Ahmad\n"
     ]
    }
   ],
   "source": [
    "x = input(\"write your first name here.\");\n",
    "y = input (\"write your last name here\");\n",
    "print(y+ \" \" + x)"
   ]
  },
  {
   "cell_type": "code",
   "execution_count": 17,
   "metadata": {},
   "outputs": [
    {
     "name": "stdout",
     "output_type": "stream",
     "text": [
      "What is your birth year?1992\n",
      "at what year you want to calculate your age?2022\n",
      "30\n"
     ]
    }
   ],
   "source": [
    "x = int(input (\"What is your birth year?\"));\n",
    "y = int(input (\"at what year you want to calculate your age?\"));\n",
    "print(y-x)"
   ]
  },
  {
   "cell_type": "code",
   "execution_count": null,
   "metadata": {},
   "outputs": [],
   "source": []
  }
 ],
 "metadata": {
  "kernelspec": {
   "display_name": "Python 3",
   "language": "python",
   "name": "python3"
  },
  "language_info": {
   "codemirror_mode": {
    "name": "ipython",
    "version": 3
   },
   "file_extension": ".py",
   "mimetype": "text/x-python",
   "name": "python",
   "nbconvert_exporter": "python",
   "pygments_lexer": "ipython3",
   "version": "3.8.5"
  }
 },
 "nbformat": 4,
 "nbformat_minor": 4
}
